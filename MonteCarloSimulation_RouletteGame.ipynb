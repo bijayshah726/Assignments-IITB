{
  "nbformat": 4,
  "nbformat_minor": 0,
  "metadata": {
    "colab": {
      "name": "MonteCarloSimulation_RouletteGame",
      "provenance": [],
      "authorship_tag": "ABX9TyO3PXuiNary+5L8Yplk1UqL",
      "include_colab_link": true
    },
    "kernelspec": {
      "name": "python3",
      "display_name": "Python 3"
    },
    "language_info": {
      "name": "python"
    }
  },
  "cells": [
    {
      "cell_type": "markdown",
      "metadata": {
        "id": "view-in-github",
        "colab_type": "text"
      },
      "source": [
        "<a href=\"https://colab.research.google.com/github/bijayshah726/Assignments-IITB/blob/main/MonteCarloSimulation_RouletteGame.ipynb\" target=\"_parent\"><img src=\"https://colab.research.google.com/assets/colab-badge.svg\" alt=\"Open In Colab\"/></a>"
      ]
    },
    {
      "cell_type": "code",
      "execution_count": null,
      "metadata": {
        "id": "4KZ4gotso3Bv"
      },
      "outputs": [],
      "source": [
        "import random as random\n",
        "class FairRoulette():\n",
        "  def __init__(self):\n",
        "    self.pockets=[]\n",
        "    for i in range(1,37):\n",
        "      self.pockets.append(i)\n",
        "    self.ball=None\n",
        "    self.pocketOdds=len(self.pockets)-1\n",
        "    print(self.pocketOdds)\n",
        "  def spin(self):\n",
        "    self.ball=random.choice(self.pockets)\n",
        "  def betPocket(self,pocket,amt):\n",
        "    if str(pocket) == str(self.ball):\n",
        "      return amt*self.pocketOdds\n",
        "    else:\n",
        "      return -amt\n",
        "  def __str__ (self):\n",
        "      return 'Fair Roulette'"
      ]
    },
    {
      "cell_type": "code",
      "source": [
        "def playRoulette(game,numSpins,pocket,bet,toPrint):\n",
        "  totPocket=0\n",
        "  for i in range(numSpins):\n",
        "    game.spin()\n",
        "    totPocket += game.betPocket(pocket,bet)\n",
        "  if toPrint:\n",
        "    print('{} spins of {}'.format(numSpins,str(game)))\n",
        "    print('Expected return betting', pocket, '=',str(100*totPocket/numSpins)+'%\\n')\n",
        "  return (totPocket/numSpins)\n",
        "\n",
        "game= FairRoulette()\n",
        "for numSpins in (100,1000000):\n",
        "  for i in range(3):\n",
        "    playRoulette(game,numSpins,2,1,True)"
      ],
      "metadata": {
        "colab": {
          "base_uri": "https://localhost:8080/"
        },
        "id": "ek4kkye2zEay",
        "outputId": "9a11cae4-911a-4fb5-c99a-ffd3c950d5d0"
      },
      "execution_count": null,
      "outputs": [
        {
          "output_type": "stream",
          "name": "stdout",
          "text": [
            "35\n",
            "100 spins of Fair Roulette\n",
            "Expected return betting 2 = 44.0%\n",
            "\n",
            "100 spins of Fair Roulette\n",
            "Expected return betting 2 = -64.0%\n",
            "\n",
            "100 spins of Fair Roulette\n",
            "Expected return betting 2 = 80.0%\n",
            "\n",
            "1000000 spins of Fair Roulette\n",
            "Expected return betting 2 = -0.7084%\n",
            "\n",
            "1000000 spins of Fair Roulette\n",
            "Expected return betting 2 = -0.0496%\n",
            "\n",
            "1000000 spins of Fair Roulette\n",
            "Expected return betting 2 = -0.19%\n",
            "\n"
          ]
        }
      ]
    },
    {
      "cell_type": "code",
      "source": [
        "class EuRoulette(FairRoulette):\n",
        "    def __init__(self):\n",
        "        FairRoulette.__init__(self)\n",
        "        self.pockets.append('0')\n",
        "        print(self.pocketOdds)\n",
        "    def __str__(self):\n",
        "        return 'European Roulette'\n",
        "\n",
        "class AmRoulette(EuRoulette):\n",
        "    def __init__(self):\n",
        "        EuRoulette.__init__(self)\n",
        "        self.pockets.append('00')\n",
        "        print(self.pockets,self.pocketOdds)\n",
        "    def __str__(self):\n",
        "        return 'American Roulette'"
      ],
      "metadata": {
        "id": "3thofV-Q2bUB"
      },
      "execution_count": null,
      "outputs": []
    },
    {
      "cell_type": "code",
      "source": [
        "def findPocketReturn(game, numTrials, trialSize, toPrint):\n",
        "    pocketReturns = []\n",
        "    for t in range(numTrials):\n",
        "        trialVals = playRoulette(game, trialSize, 2, 1, toPrint)\n",
        "        pocketReturns.append(trialVals)\n",
        "    return pocketReturns\n",
        "\n",
        "random.seed(0)\n",
        "numTrials = 20\n",
        "resultDict = {}\n",
        "games = (FairRoulette, EuRoulette, AmRoulette)\n",
        "for G in games:\n",
        "    resultDict[G().__str__()] = []\n",
        "for numSpins in (1000, 10000, 100000, 1000000):\n",
        "    print('\\nSimulate', numTrials, 'trials of',\n",
        "          numSpins, 'spins each')\n",
        "    for G in games:\n",
        "        pocketReturns = findPocketReturn(G(), numTrials,\n",
        "                                         numSpins, False)\n",
        "        expReturn = 100*sum(pocketReturns)/len(pocketReturns)\n",
        "        print('Exp. return for', G(), '=',\n",
        "             str(round(expReturn, 4)) + '%')"
      ],
      "metadata": {
        "colab": {
          "base_uri": "https://localhost:8080/"
        },
        "id": "yzoJTBSAtg80",
        "outputId": "ad46bb86-408d-466e-9d18-15ce3b8c00b7"
      },
      "execution_count": null,
      "outputs": [
        {
          "output_type": "stream",
          "name": "stdout",
          "text": [
            "35\n",
            "35\n",
            "35\n",
            "35\n",
            "35\n",
            "[1, 2, 3, 4, 5, 6, 7, 8, 9, 10, 11, 12, 13, 14, 15, 16, 17, 18, 19, 20, 21, 22, 23, 24, 25, 26, 27, 28, 29, 30, 31, 32, 33, 34, 35, 36, '0', '00'] 35\n",
            "\n",
            "Simulate 20 trials of 1000 spins each\n",
            "35\n",
            "35\n",
            "Exp. return for Fair Roulette = 6.56%\n",
            "35\n",
            "35\n",
            "35\n",
            "35\n",
            "Exp. return for European Roulette = -2.26%\n",
            "35\n",
            "35\n",
            "[1, 2, 3, 4, 5, 6, 7, 8, 9, 10, 11, 12, 13, 14, 15, 16, 17, 18, 19, 20, 21, 22, 23, 24, 25, 26, 27, 28, 29, 30, 31, 32, 33, 34, 35, 36, '0', '00'] 35\n",
            "35\n",
            "35\n",
            "[1, 2, 3, 4, 5, 6, 7, 8, 9, 10, 11, 12, 13, 14, 15, 16, 17, 18, 19, 20, 21, 22, 23, 24, 25, 26, 27, 28, 29, 30, 31, 32, 33, 34, 35, 36, '0', '00'] 35\n",
            "Exp. return for American Roulette = -8.92%\n",
            "\n",
            "Simulate 20 trials of 10000 spins each\n",
            "35\n",
            "35\n",
            "Exp. return for Fair Roulette = -1.234%\n",
            "35\n",
            "35\n",
            "35\n",
            "35\n",
            "Exp. return for European Roulette = -4.168%\n",
            "35\n",
            "35\n",
            "[1, 2, 3, 4, 5, 6, 7, 8, 9, 10, 11, 12, 13, 14, 15, 16, 17, 18, 19, 20, 21, 22, 23, 24, 25, 26, 27, 28, 29, 30, 31, 32, 33, 34, 35, 36, '0', '00'] 35\n",
            "35\n",
            "35\n",
            "[1, 2, 3, 4, 5, 6, 7, 8, 9, 10, 11, 12, 13, 14, 15, 16, 17, 18, 19, 20, 21, 22, 23, 24, 25, 26, 27, 28, 29, 30, 31, 32, 33, 34, 35, 36, '0', '00'] 35\n",
            "Exp. return for American Roulette = -5.752%\n",
            "\n",
            "Simulate 20 trials of 100000 spins each\n",
            "35\n",
            "35\n",
            "Exp. return for Fair Roulette = 0.8144%\n",
            "35\n",
            "35\n",
            "35\n",
            "35\n",
            "Exp. return for European Roulette = -2.6506%\n",
            "35\n",
            "35\n",
            "[1, 2, 3, 4, 5, 6, 7, 8, 9, 10, 11, 12, 13, 14, 15, 16, 17, 18, 19, 20, 21, 22, 23, 24, 25, 26, 27, 28, 29, 30, 31, 32, 33, 34, 35, 36, '0', '00'] 35\n",
            "35\n",
            "35\n",
            "[1, 2, 3, 4, 5, 6, 7, 8, 9, 10, 11, 12, 13, 14, 15, 16, 17, 18, 19, 20, 21, 22, 23, 24, 25, 26, 27, 28, 29, 30, 31, 32, 33, 34, 35, 36, '0', '00'] 35\n",
            "Exp. return for American Roulette = -5.113%\n",
            "\n",
            "Simulate 20 trials of 1000000 spins each\n",
            "35\n",
            "35\n",
            "Exp. return for Fair Roulette = -0.0723%\n",
            "35\n",
            "35\n",
            "35\n",
            "35\n",
            "Exp. return for European Roulette = -2.7329%\n",
            "35\n",
            "35\n",
            "[1, 2, 3, 4, 5, 6, 7, 8, 9, 10, 11, 12, 13, 14, 15, 16, 17, 18, 19, 20, 21, 22, 23, 24, 25, 26, 27, 28, 29, 30, 31, 32, 33, 34, 35, 36, '0', '00'] 35\n",
            "35\n",
            "35\n",
            "[1, 2, 3, 4, 5, 6, 7, 8, 9, 10, 11, 12, 13, 14, 15, 16, 17, 18, 19, 20, 21, 22, 23, 24, 25, 26, 27, 28, 29, 30, 31, 32, 33, 34, 35, 36, '0', '00'] 35\n",
            "Exp. return for American Roulette = -5.212%\n"
          ]
        }
      ]
    },
    {
      "cell_type": "code",
      "source": [
        "def getMeanAndStd(X):\n",
        "    mean = sum(X)/float(len(X))\n",
        "    tot = 0.0\n",
        "    for x in X:\n",
        "        tot += (x - mean)**2\n",
        "    std = (tot/len(X))**0.5\n",
        "    return mean, std"
      ],
      "metadata": {
        "id": "81gT2vCpyBKV"
      },
      "execution_count": null,
      "outputs": []
    },
    {
      "cell_type": "code",
      "source": [
        "class MyClass:\n",
        "    x = 0\n",
        "    y = \"\"\n",
        "\n",
        "    def __init__(self, anyNumber, anyString):\n",
        "        self.x = anyNumber\n",
        "        self.y = anyString\n",
        "    def __str__ (self):\n",
        "        return 'MyClass(x='\n",
        "myObject = MyClass(12345, \"Hello\")\n",
        "\n",
        "print(myObject.__str__())\n",
        "print(myObject)\n",
        "print(str(myObject))\n",
        "print(myObject.__repr__())\n"
      ],
      "metadata": {
        "colab": {
          "base_uri": "https://localhost:8080/"
        },
        "id": "rvYx0kA_p5O5",
        "outputId": "9a116701-a95b-4c7d-d25b-08297e908449"
      },
      "execution_count": null,
      "outputs": [
        {
          "output_type": "stream",
          "name": "stdout",
          "text": [
            "MyClass(x=\n",
            "MyClass(x=\n",
            "MyClass(x=\n",
            "<__main__.MyClass object at 0x7fb16e4bda10>\n"
          ]
        }
      ]
    },
    {
      "cell_type": "code",
      "source": [
        ""
      ],
      "metadata": {
        "id": "ri-XVtIHrWEd"
      },
      "execution_count": null,
      "outputs": []
    }
  ]
}