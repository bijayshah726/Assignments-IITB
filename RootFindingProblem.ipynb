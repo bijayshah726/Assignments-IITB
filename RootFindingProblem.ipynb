{
 "cells": [
  {
   "cell_type": "code",
   "execution_count": 1,
   "id": "46fae1df",
   "metadata": {
    "id": "46fae1df"
   },
   "outputs": [],
   "source": [
    "#Importing Neccesary Libraries\n",
    "import numpy as np\n",
    "import matplotlib.pyplot as plt\n",
    "import pandas as pd"
   ]
  },
  {
   "cell_type": "markdown",
   "id": "8e504018",
   "metadata": {
    "id": "8e504018"
   },
   "source": [
    "### Projectile Motion Equation\n",
    "$$y= R*Tan(\\theta)-\\frac{g}2*\\left(\\frac{R}{u*cos(\\theta)}\\right)^2$$"
   ]
  },
  {
   "cell_type": "markdown",
   "id": "aba2e5d8",
   "metadata": {
    "id": "aba2e5d8"
   },
   "source": [
    "### Hanging Chain Equation\n",
    "$$y=y_o+a*\\left( cosh\\left( \\frac{x-x_o}{a} \\right) -1 \\right)$$"
   ]
  },
  {
   "cell_type": "code",
   "execution_count": 2,
   "id": "7eb5def4",
   "metadata": {
    "id": "7eb5def4"
   },
   "outputs": [],
   "source": [
    "global projectile\n",
    "global chain\n",
    "\n",
    "projectile = lambda m, u, R: (R*np.tan(m*np.pi/180)-(9.81/2)*(R/u/np.cos(m*np.pi/180))**2)   #function for trajectory\n",
    "\n",
    "#list of points is used so that same code of Bisection and Newton Raphson can be used\n",
    "chain= lambda A, L, points: ( 2*A*np.sinh((points[1][0]-points[0][0])/(2*A)) -np.sqrt(L**2-(points[1][1]-points[0][1])**2) )\n"
   ]
  },
  {
   "cell_type": "code",
   "execution_count": 3,
   "id": "81466406",
   "metadata": {
    "id": "81466406"
   },
   "outputs": [],
   "source": [
    "#Bisection Method\n",
    "def bisection_method(a,b, problem,input1, input2, tolerance=pow(10,-5), n_max=10000):\n",
    "    \n",
    "    if problem== \"projectile\":\n",
    "        f=projectile\n",
    "    elif problem==\"chain\":\n",
    "         f=chain\n",
    "    else:\n",
    "        print(\"Problem is not trajectory or chain type\")\n",
    "        return -1,-1\n",
    "        \n",
    "    i=1                                                                 #Loop runs initially without any condition so i=1\n",
    "    initial1=a\n",
    "    initial2=b\n",
    "    while True:\n",
    "        mid=(a+b)/2\n",
    "        y1=f(a,input1,input2)\n",
    "        y2=f(b,input1,input2)\n",
    "        y=f(mid,input1,input2)\n",
    "                \n",
    "        if abs(y)<tolerance:\n",
    "            return mid,i\n",
    "        elif i>n_max:\n",
    "            print(\"Max iteration reached for the guess {}, {}\".format(initial1,initial2))\n",
    "            return mid,i\n",
    "        if y*y1<0:\n",
    "            b=mid   \n",
    "        else:\n",
    "            a=mid\n",
    "        i=i+1                                                           #Counter is increased by 1\n",
    "        \n"
   ]
  },
  {
   "cell_type": "code",
   "execution_count": 4,
   "id": "ac7cc000",
   "metadata": {
    "id": "ac7cc000"
   },
   "outputs": [],
   "source": [
    "#Newton Raphson Method\n",
    "def Newton_Raphson(xo, problem,input1, input2, tolerance=pow(10,-5), n_max=10000):\n",
    "    \n",
    "    if problem== \"projectile\":\n",
    "        func=projectile\n",
    "    elif problem==\"chain\":\n",
    "         func=chain\n",
    "    else:\n",
    "        print(\"Problem is not trajectory or chain type\")\n",
    "        return -1,-1\n",
    "    \n",
    "    i=1\n",
    "    h=pow(10,-5)\n",
    "    \n",
    "    f=lambda xo: func(xo,input1,input2)\n",
    "        \n",
    "        \n",
    "            \n",
    "    function_derivative= lambda function,x: ((function(x+h)-function(x))/h)\n",
    "    \n",
    "    initial=xo\n",
    "    while True:\n",
    "        temp=xo\n",
    "        try:\n",
    "            \n",
    "            xo=xo-f(xo)/function_derivative(f,xo)\n",
    "            i=i+1\n",
    "            if abs(temp-xo)<tolerance:\n",
    "                return xo,i\n",
    "            elif i>n_max:\n",
    "                print(\"Max Iteration Reached for the guess {}\".format(initial))\n",
    "                return xo,i\n",
    "        except:\n",
    "            print(\"Zero Division Error occurred\")\n",
    "            return -1,-1\n",
    "            \n"
   ]
  },
  {
   "cell_type": "code",
   "execution_count": 5,
   "id": "4961ebe6",
   "metadata": {
    "id": "4961ebe6"
   },
   "outputs": [],
   "source": [
    "def projectile_problem():\n",
    "    \n",
    "    #Inputs\n",
    "    u=float(input(\"\\nEnter initial velocity \"))             #Input1\n",
    "    R=float(input(\"Enter range \"))             #Input2\n",
    "\n",
    "    R_max= u**2/(9.81)                                                  #Maximum possible range\n",
    "    print(\"\\nInput range is {} m, intial velcoity is {} m/s.\".format(R,u))\n",
    "    print(\"Maximum range is {} m.\".format(R_max))\n",
    "    if R<0 or R>R_max:                                                  #Condition to Output the error\n",
    "        print (\"Out of Range\")\n",
    "        return -1,-1\n",
    "        \n",
    "    method = int(input(\"Select the method you want to solve the problem with \\n1: Bisection Method \\n2: Newton Raphson Method \\n\"))\n",
    "    tol=float(input(\"Enter tolerance (ideally 0.00001) \"))\n",
    "    n_max=int(float(input(\"Enter maximum number of iterations (ideally 10000) \")))\n",
    "    if method==1:\n",
    "        a=int(input(\"Enter lower guess for theta (ideally 0) \"))\n",
    "        b=int(input(\"Enter upper guess for theta (ideally 45) \"))\n",
    "        out,iteration=bisection_method(a,b,\"projectile\",u,R, tol, n_max)\n",
    "    elif method==2:\n",
    "        xo=int(float(input(\"Enter initial guess of xo for theta \")))\n",
    "        out,iteration=Newton_Raphson(xo,\"projectile\",u,R,tol, n_max)\n",
    "        #default values for a and b\n",
    "        a=0\n",
    "        b=45                  \n",
    "    else:\n",
    "        print(\"Method is not valid. Enter 1 or 2 only.\")\n",
    "        return -1,-1\n",
    "    #Output\n",
    "    print(\"\\nAngle for the given problem is {} degrees.\".format(out))\n",
    "    print(\"Number of iterations required = {}\".format(iteration))\n",
    "    \n",
    "    if iteration!=-1 and iteration<=n_max:\n",
    "\n",
    "        #Plotting theta versus f(theta), solution approach\n",
    "        theta=np.linspace(a,b,num=(b-a)*10, endpoint=True)\n",
    "        y=projectile(theta,u,R)\n",
    "        fig, ax=plt.subplots(figsize=(10,10))\n",
    "        ax.plot(theta,y,label=\"Projectile Equation\",linewidth=2,)\n",
    "        ax.scatter(out,0,c='red')\n",
    "        ax.set(xlabel=\"Angles in degree\", ylabel=\"function value\", title=\"Graph of y versus theta\")\n",
    "        ax.legend()\n",
    "        ax.grid(True,linestyle=\"-.\")\n",
    "        ax.text(a,0, r\"$y= R*Tan(\\theta)-\\frac{g}{2}*\\left(\\frac{R}{u*cos(\\theta)}\\right)^2$\", fontsize='x-large')\n",
    "        ax.margins(0.1,0.1)\n",
    "        plt.show()\n",
    "\n",
    "        #Plotting x versus y, actual path\n",
    "        x=np.linspace(0,int(R),num=int(R)*10,endpoint=True)\n",
    "        Y=projectile(out,u,x)\n",
    "        fig, ax=plt.subplots(figsize=(10,10))\n",
    "        ax.plot(x,Y,label=\"Projectile Equation\",linewidth=2,)\n",
    "        ax.set(xlabel=\"Horizontal distance\", ylabel=\"Height (Vertical Distance)\", title=\"Graph of the motion y versus x\")\n",
    "        ax.legend()\n",
    "        ax.grid(True,linestyle=\"-.\")\n",
    "        ax.text(0.5,0, r\"$Y= x*Tan(\\theta)-\\frac{g}{2}*\\left(\\frac{x}{u*cos(\\theta)}\\right)^2$\", fontsize='x-large')\n",
    "        ax.margins(0.1,0.1)\n",
    "        plt.show()\n",
    "\n",
    "    "
   ]
  },
  {
   "cell_type": "code",
   "execution_count": 6,
   "id": "31aa5205",
   "metadata": {
    "id": "31aa5205"
   },
   "outputs": [],
   "source": [
    "def hanging_chain_problem():\n",
    "    \n",
    "    L=float(input(\"Enter the length of the chain \"))  #INPUT1\n",
    "    x1=float(input(\"Enter x1 \"))\n",
    "    y1=float(input(\"Enter y1 \"))\n",
    "    x2=float(input(\"Enter x2 \"))\n",
    "    y2=float(input(\"Enter y2 \"))\n",
    "    points=[(x1,y1),(x2,y2)]                          #INPUT2\n",
    "    \n",
    "    #First Checking of validity\n",
    "    distance=((x2-x1)**2+(y2-y1)**2)**(0.5)\n",
    "    if L<distance:\n",
    "        print(\"\\nThe length of chain is too small to be hanging from two points\")\n",
    "        return -1,-1\n",
    "    \n",
    "    \n",
    "    method = int(input(\"Select the method you want to solve the problem with \\n1:Bisection Method \\n2: Newton Raphson Method \\n\"))\n",
    "    tol=float(input(\"Enter tolerance (ideally 0.00001) \"))\n",
    "    n_max=int(float(input(\"Enter maximum number of iterations (ideally 10000) \")))\n",
    "    \n",
    "    if method==1:\n",
    "        a=float(input(\"Enter lower guess for a (ideally 0.1) \"))\n",
    "        b=float(input(\"Enter upper guess for a (ideally 5 to 10) \"))\n",
    "        out,iteration=bisection_method(a,b,\"chain\",L,points,tol,n_max)\n",
    "    elif method==2:\n",
    "        xo=float(input(\"Enter initial guess of xo for a \"))\n",
    "        out,iteration=Newton_Raphson(xo,\"chain\",L,points,tol,n_max)                \n",
    "    else:\n",
    "        print(\"Method is not valid. Enter 1 or 2 only.\")\n",
    "        return -1,-1\n",
    "    #Output\n",
    "    print(\"\\nValue of a for the hanging chain problem is {} \".format(out))\n",
    "    print(\"Number of iterations required = {}\".format(iteration))\n",
    "    \n",
    "    A=abs(out)\n",
    "    \n",
    "    if not np.isnan(out) and iteration!=-1 and iteration<=n_max:\n",
    "        \n",
    "    \n",
    "        x_o= (x1+x2)/2+0.5*A*(np.log((L-y2+y1)/(L+y2-y1)))\n",
    "        y_o=y2-A*(np.cosh((x2-x_o)/A)-1)\n",
    "        print(\"Lower point in the graph\", x_o,y_o)\n",
    "\n",
    "\n",
    "        '''\n",
    "        #Plotting a versus f(a)\n",
    "        #Because of sharp increase in slope of the graph, division by Zero and other errors are encountered.\n",
    "        #A desmos Graph is attached instead\n",
    "\n",
    "        #Following lines can be used to view approximate graph if needed\n",
    "        Ax=np.linspace(0,A+1,num=10000,endpoint=True)\n",
    "        fAx=chain(Ax,L,points)\n",
    "        fig, ax=plt.subplots(figsize=(10,10))\n",
    "        ax.plot(Ax,fAx,label=\"Hanging Chain Profile \",linewidth=2,)\n",
    "        ax.scatter(A,0,c='red')\n",
    "        ax.set(xlabel=\"Horizontal distance\", ylabel=\"Height (Vertical Distance)\",\n",
    "        title=\"Graph of the chain suspended under gravity\")\n",
    "        ax.legend()\n",
    "        ax.grid(True,linestyle=\"-.\")\n",
    "        ax.margins(0.1,0.1)\n",
    "        plt.show()\n",
    "        '''\n",
    "\n",
    "\n",
    "\n",
    "        #plotting chain profile\n",
    "        y_chain= lambda A,x: (y_o+A*(np.cosh((x-x_o)/A)-1))\n",
    "        x=np.linspace(x1,x2,num=100,endpoint=True)\n",
    "        Y=y_chain(A,x)\n",
    "\n",
    "        fig, ax=plt.subplots(figsize=(10,10))\n",
    "        ax.plot(x,Y,label=\"Hanging Chain Profile \",linewidth=2,)\n",
    "        ax.scatter(x_o,y_o,c='red')\n",
    "        ax.set(xlabel=\"Horizontal distance\", ylabel=\"Height (Vertical Distance)\",\n",
    "               title=\"Graph of the chain suspended under gravity\")\n",
    "        ax.legend()\n",
    "        ax.grid(True,linestyle=\"-.\")\n",
    "        ax.text(x_o,y_o, r\"$y=y_o+a*\\left( cosh\\left( \\frac{x-x_o}{a} \\right) -1 \\right)$\", fontsize='x-large')\n",
    "        ax.margins(0.1,0.1)\n",
    "        plt.show()\n",
    "\n",
    "\n",
    "    \n",
    "    "
   ]
  },
  {
   "cell_type": "code",
   "execution_count": 7,
   "id": "9a14d134",
   "metadata": {
    "colab": {
     "base_uri": "https://localhost:8080/",
     "height": 1000
    },
    "id": "9a14d134",
    "outputId": "89be6857-2f08-4458-b91a-e3216583df13"
   },
   "outputs": [
    {
     "name": "stdout",
     "output_type": "stream",
     "text": [
      "Enter the choice for root finding\n",
      "1: Projectile\n",
      "2: Hanging Chain\n",
      "Select 1 for Projectile and 2 for Hanging Chain problem \n",
      "2\n",
      "Enter the length of the chain 16\n",
      "Enter x1 1\n",
      "Enter y1 3\n",
      "Enter x2 10\n",
      "Enter y2 1\n",
      "Select the method you want to solve the problem with \n",
      "1:Bisection Method \n",
      "2: Newton Raphson Method \n",
      "1\n",
      "Enter tolerance (ideally 0.00001) 0.0001\n",
      "Enter maximum number of iterations (ideally 10000) 1000\n",
      "Enter lower guess for a (ideally 0.1) 0.1\n",
      "Enter upper guess for a (ideally 5 to 10) 5\n",
      "\n",
      "Value of a for the hanging chain problem is 2.310125350952148 \n",
      "Number of iterations required = 18\n",
      "Lower point in the graph 5.790283915915883 -4.021816894276114\n"
     ]
    },
    {
     "data": {
      "image/png": "[encoded data removed]",
      "text/plain": [
       "<Figure size 720x720 with 1 Axes>"
      ]
     },
     "metadata": {
      "needs_background": "light"
     },
     "output_type": "display_data"
    },
    {
     "name": "stdout",
     "output_type": "stream",
     "text": [
      "Do you want to continue (y/n)? n\n"
     ]
    }
   ],
   "source": [
    "while True:\n",
    "    \n",
    "    choice=int(input(\"Enter the choice for root finding\\n1: Projectile\\n2: Hanging Chain\\nSelect 1 for Projectile and 2 for Hanging Chain problem \\n\"))\n",
    "    if choice==1:\n",
    "        projectile_problem()\n",
    "    elif choice==2:\n",
    "        hanging_chain_problem()\n",
    "    else:\n",
    "        print(\"Choice is not valid. Enter 1 or 2 only.\")\n",
    "    \n",
    "    select=input(\"Do you want to continue (y/n)? \")\n",
    "    if select.lower()!=\"y\":\n",
    "        break"
   ]
  },
  {
   "cell_type": "code",
   "execution_count": null,
   "id": "241e6f62",
   "metadata": {
    "colab": {
     "base_uri": "https://localhost:8080/",
     "height": 300
    },
    "id": "241e6f62",
    "outputId": "93c7059b-3b2e-4e5b-e94c-69c9ef6ea3bd"
   },
   "outputs": [],
   "source": [
    "name=[\"u\",'R',\"a\",\"b\",\"Theta (Bisection)\", \"No. of Iterations (Bisection)\"]\n",
    "df_projectile=pd.DataFrame(columns=name)\n",
    "df_projectile['u']=[10,10,10,10,20,20,20,20]\n",
    "df_projectile['R']=[10,10,10,10,15,15,15,15]\n",
    "df_projectile['a']=[0,1,2,3,0,1,2,3]\n",
    "df_projectile['b']=[45,44,43,42,45,44,43,42]\n",
    "i=0\n",
    "for u,R,a,b in list(zip(df_projectile['u'],df_projectile['R'],df_projectile['a'],df_projectile['b'])):\n",
    "    output,iteration=bisection_method(a,b,\"projectile\",u,R)\n",
    "    df_projectile.at[i,'Theta (Bisection)']=output\n",
    "    df_projectile.at[i,'No. of Iterations (Bisection)']=iteration\n",
    "    i=i+1\n",
    "df_projectile.head(8)"
   ]
  },
  {
   "cell_type": "code",
   "execution_count": null,
   "id": "6e62cb74",
   "metadata": {
    "colab": {
     "base_uri": "https://localhost:8080/",
     "height": 300
    },
    "id": "6e62cb74",
    "outputId": "c0d84ef8-9880-45dd-ed9d-52273a0df70c"
   },
   "outputs": [],
   "source": [
    "name=[\"u\",'R',\"xo\",\"Theta (Newton Raphson)\", \"No. of Iterations (NR)\"]\n",
    "df_projectile_NR=pd.DataFrame(columns=name)\n",
    "df_projectile_NR['u']=[10,10,10,10,20,20,20,20]\n",
    "df_projectile_NR['R']=[10,10,10,10,15,15,15,15]\n",
    "df_projectile_NR['xo']=[10,20,30,40,10,20,30,40]\n",
    "i=0\n",
    "for u,R,theta in list(zip(df_projectile_NR['u'],df_projectile_NR['R'],df_projectile_NR['xo'])):\n",
    "    output,iteration=Newton_Raphson(theta,\"projectile\",u,R)\n",
    "    df_projectile_NR.at[i,'Theta (Newton Raphson)']=output\n",
    "    df_projectile_NR.at[i,'No. of Iterations (NR)']=iteration\n",
    "    i=i+1\n",
    "df_projectile_NR.head(8)"
   ]
  },
  {
   "cell_type": "code",
   "execution_count": null,
   "id": "2fb38bc9",
   "metadata": {
    "colab": {
     "base_uri": "https://localhost:8080/",
     "height": 300
    },
    "id": "2fb38bc9",
    "outputId": "02697495-ce01-46d1-8bd7-c4f5d5da6701"
   },
   "outputs": [],
   "source": [
    "name=[\"Length\",'Points',\"a\",\"b\",\"A (Bisection)\", \"No. of Iterations\"]\n",
    "df_chain=pd.DataFrame(columns=name)\n",
    "df_chain['Length']=[8,8,8,8,10,10,10,10]\n",
    "df_chain['Points']=[[(1,1),(6,6)],[(1,1),(6,6)],[(1,1),(6,6)],[(1,1),(6,6)],[(2,12),(8,12)],[(2,12),(8,12)],[(2,12),(8,12)],[(2,12),(8,12)]]\n",
    "df_chain['a']=[0.1,0.1,0.6,0.6,0.1,0.1,0.6,0.6]\n",
    "df_chain['b']=[5,10,5,10,5,10,5,10]\n",
    "i=0\n",
    "for l,p,a,b in list(zip(df_chain['Length'],df_chain['Points'],df_chain['a'],df_chain['b'])):\n",
    "    output,iteration=bisection_method(a,b,\"chain\",l,p)\n",
    "    df_chain.at[i,'A (Bisection)']=output\n",
    "    df_chain.at[i,'No. of Iterations']=iteration\n",
    "    i=i+1\n",
    "df_chain.head(8)"
   ]
  },
  {
   "cell_type": "code",
   "execution_count": null,
   "id": "4f65f5ac",
   "metadata": {
    "colab": {
     "base_uri": "https://localhost:8080/",
     "height": 300
    },
    "id": "4f65f5ac",
    "outputId": "d18b89a0-436a-4d1e-a9b1-d21206cc7f83"
   },
   "outputs": [],
   "source": [
    "name=[\"Length\",'Points',\"Guess A\",\"A (NR)\", \"No. of Iterations (NR)\"]\n",
    "df_chain=pd.DataFrame(columns=name)\n",
    "df_chain['Length']=[8,8,8,8,10,10,10,10]\n",
    "df_chain['Points']=[[(1,1),(6,6)],[(1,1),(6,6)],[(1,1),(6,6)],[(1,1),(6,6)],[(2,12),(8,12)],[(2,12),(8,12)],[(2,12),(8,12)],[(2,12),(8,12)]]\n",
    "df_chain['Guess A']=[0.1,1,2,3,0.1,1,2,3]\n",
    "i=0\n",
    "for l,p,xo in list(zip(df_chain['Length'],df_chain['Points'],df_chain['Guess A'])):\n",
    "    output,iteration=Newton_Raphson(xo,\"chain\",l,p)\n",
    "    df_chain.at[i,'A (NR)']=output\n",
    "    df_chain.at[i,'No. of Iterations (NR)']=iteration\n",
    "    i=i+1\n",
    "df_chain.head(8)"
   ]
  },
  {
   "cell_type": "markdown",
   "id": "NfoIHM9ozhxR",
   "metadata": {
    "id": "NfoIHM9ozhxR"
   },
   "source": [
    "The code consists of function (module) for solving two types of problem using Newton Raphson or Bisection Method. Initially, user is asked to select the type of problem. It can be projectile or hanging chain problem discussed in the class. User has to follow the instructions as displayed. After the problem selection, user is asked for the method of solving the problem. Relevant inputs for the problem is asked from user. Ideal value is suggested where necessary. Newton Raphson for hanging chain problem can jump and may not converge if initial guess is not near the actual guess. Bisection method, though taking more time, in most of the cases solve the hanging chain problem. Newton Raphson is fast for projectile motion problem."
   ]
  },
  {
   "cell_type": "code",
   "execution_count": null,
   "id": "d81a4e83",
   "metadata": {},
   "outputs": [],
   "source": []
  },
  {
   "cell_type": "code",
   "execution_count": null,
   "id": "5d3ca656",
   "metadata": {},
   "outputs": [],
   "source": []
  },
  {
   "cell_type": "code",
   "execution_count": null,
   "id": "dbc73de7",
   "metadata": {},
   "outputs": [],
   "source": []
  },
  {
   "cell_type": "code",
   "execution_count": null,
   "id": "b15a2148",
   "metadata": {},
   "outputs": [],
   "source": []
  },
  {
   "cell_type": "code",
   "execution_count": null,
   "id": "248656ba",
   "metadata": {},
   "outputs": [],
   "source": []
  },
  {
   "cell_type": "code",
   "execution_count": null,
   "id": "bdf37795",
   "metadata": {},
   "outputs": [],
   "source": []
  },
  {
   "cell_type": "code",
   "execution_count": null,
   "id": "a1e99766",
   "metadata": {},
   "outputs": [],
   "source": []
  },
  {
   "cell_type": "code",
   "execution_count": null,
   "id": "dd4c3e7f",
   "metadata": {},
   "outputs": [],
   "source": []
  },
  {
   "cell_type": "code",
   "execution_count": null,
   "id": "9f9ca211",
   "metadata": {},
   "outputs": [],
   "source": []
  },
  {
   "cell_type": "code",
   "execution_count": null,
   "id": "70f6c248",
   "metadata": {},
   "outputs": [],
   "source": []
  },
  {
   "cell_type": "code",
   "execution_count": null,
   "id": "dc12226f",
   "metadata": {},
   "outputs": [],
   "source": []
  },
  {
   "cell_type": "code",
   "execution_count": null,
   "id": "09b9153a",
   "metadata": {},
   "outputs": [],
   "source": []
  },
  {
   "cell_type": "code",
   "execution_count": null,
   "id": "43176ce7",
   "metadata": {},
   "outputs": [],
   "source": []
  },
  {
   "cell_type": "code",
   "execution_count": null,
   "id": "7276b242",
   "metadata": {},
   "outputs": [],
   "source": []
  },
  {
   "cell_type": "code",
   "execution_count": null,
   "id": "a50d629a",
   "metadata": {},
   "outputs": [],
   "source": []
  },
  {
   "cell_type": "code",
   "execution_count": null,
   "id": "61de2c7b",
   "metadata": {},
   "outputs": [],
   "source": []
  },
  {
   "cell_type": "code",
   "execution_count": null,
   "id": "425dadc0",
   "metadata": {},
   "outputs": [],
   "source": []
  },
  {
   "cell_type": "code",
   "execution_count": null,
   "id": "e47fe167",
   "metadata": {},
   "outputs": [],
   "source": []
  },
  {
   "cell_type": "code",
   "execution_count": null,
   "id": "a49fdd45",
   "metadata": {},
   "outputs": [],
   "source": []
  },
  {
   "cell_type": "code",
   "execution_count": null,
   "id": "f8d5d72c",
   "metadata": {},
   "outputs": [],
   "source": []
  },
  {
   "cell_type": "code",
   "execution_count": null,
   "id": "1b873495",
   "metadata": {},
   "outputs": [],
   "source": []
  },
  {
   "cell_type": "code",
   "execution_count": null,
   "id": "b256bcd6",
   "metadata": {},
   "outputs": [],
   "source": []
  },
  {
   "cell_type": "code",
   "execution_count": null,
   "id": "11cc1abe",
   "metadata": {},
   "outputs": [],
   "source": []
  }
 ],
 "metadata": {
  "colab": {
   "name": "213101002_ME789_RootFindingProblem.ipynb",
   "provenance": []
  },
  "kernelspec": {
   "display_name": "Python 3",
   "language": "python",
   "name": "python3"
  },
  "language_info": {
   "codemirror_mode": {
    "name": "ipython",
    "version": 3
   },
   "file_extension": ".py",
   "mimetype": "text/x-python",
   "name": "python",
   "nbconvert_exporter": "python",
   "pygments_lexer": "ipython3",
   "version": "3.8.8"
  }
 },
 "nbformat": 4,
 "nbformat_minor": 5
}
